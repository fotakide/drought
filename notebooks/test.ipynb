{
 "cells": [
  {
   "cell_type": "code",
   "execution_count": 1,
   "id": "c7a8826e",
   "metadata": {},
   "outputs": [],
   "source": [
    "import datacube"
   ]
  },
  {
   "cell_type": "code",
   "execution_count": 3,
   "id": "d345c8e7",
   "metadata": {},
   "outputs": [],
   "source": [
    "dc = datacube.Datacube(app='Composite generation', env='drought')"
   ]
  }
 ],
 "metadata": {
  "kernelspec": {
   "display_name": "drought",
   "language": "python",
   "name": "python3"
  },
  "language_info": {
   "codemirror_mode": {
    "name": "ipython",
    "version": 3
   },
   "file_extension": ".py",
   "mimetype": "text/x-python",
   "name": "python",
   "nbconvert_exporter": "python",
   "pygments_lexer": "ipython3",
   "version": "3.12.8"
  }
 },
 "nbformat": 4,
 "nbformat_minor": 5
}
